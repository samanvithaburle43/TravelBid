{
 "cells": [
  {
   "cell_type": "markdown",
   "metadata": {},
   "source": [
    "## Predicting Mortgage Default in Loan Marketplace"
   ]
  },
  {
   "cell_type": "markdown",
   "metadata": {},
   "source": [
    "In this notebook you will learn how to build a predictive model with Spark machine learning API (SparkML) and deploy it for scoring in Machine Learning (ML).\n",
    "\n",
    "This notebook walks you through these steps:\n",
    "\n",
    "    - Build a model with SparkML API\n",
    "    - Save the model in the ML repository\n",
    "    - Create a Deployment in ML (via UI)\n",
    "    - Test the model (via UI)"
   ]
  },
  {
   "cell_type": "code",
   "execution_count": 7,
   "metadata": {},
   "outputs": [
    {
     "name": "stdout",
     "output_type": "stream",
     "text": [
      "3.6.6\n"
     ]
    }
   ],
   "source": [
    "# Check Python version. This notebook is implemented for Python 3.5.x. Not all cells may work in other versions of Python.\n",
    "import platform\n",
    "print(platform.python_version())"
   ]
  },
  {
   "cell_type": "code",
   "execution_count": 8,
   "metadata": {},
   "outputs": [],
   "source": [
    "import ibm_db\n",
    "import pandas\n",
    "import ibm_db_dbi"
   ]
  },
  {
   "cell_type": "markdown",
   "metadata": {},
   "source": [
    "### Step 1: Load data  --- Update the *dsn_hostname* value with your Web Console IP"
   ]
  },
  {
   "cell_type": "code",
   "execution_count": 9,
   "metadata": {},
   "outputs": [],
   "source": [
    "#Enter the values for you database connection\n",
    "dsn_driver   = \"IBM DB2 ODBC DRIVER\"\n",
    "dsn_database = \"MORTGAGE\"            # e.g. \"MORTGAGE\"\n",
    "dsn_hostname = \"<Hostname/IP>\"       # e.g. \"Use the same IP as Web Console\"\n",
    "dsn_port     = \"50000\"               # e.g. \"50000\" \n",
    "dsn_protocol = \"TCPIP\"               # i.e. \"TCPIP\"\n",
    "dsn_uid      = \"db2inst1\"            # e.g. \"dash104434\"\n",
    "dsn_pwd      = \"password\"            # e.g. \"7dBZ3jWt9xN6$o0JiX!m\""
   ]
  },
  {
   "cell_type": "code",
   "execution_count": 10,
   "metadata": {},
   "outputs": [],
   "source": [
    "dsn = (\n",
    "    \"DRIVER={{IBM DB2 ODBC DRIVER}};\"\n",
    "    \"DATABASE={0};\"\n",
    "    \"HOSTNAME={1};\"\n",
    "    \"PORT={2};\"\n",
    "    \"PROTOCOL=TCPIP;\"\n",
    "    \"UID={3};\"\n",
    "    \"PWD={4};\").format(dsn_database, dsn_hostname, dsn_port, dsn_uid, dsn_pwd)\n",
    "\n",
    "conn = ibm_db.connect(dsn, \"\", \"\")"
   ]
  },
  {
   "cell_type": "code",
   "execution_count": 11,
   "metadata": {},
   "outputs": [],
   "source": [
    "pconn = ibm_db_dbi.Connection(conn)\n",
    "df = pandas.read_sql('SELECT * FROM db2inst1.mortgage_join', pconn)"
   ]
  },
  {
   "cell_type": "code",
   "execution_count": 12,
   "metadata": {
    "scrolled": true
   },
   "outputs": [
    {
     "name": "stdout",
     "output_type": "stream",
     "text": [
      "+----------------+------+--------------+---------+---------------+---------------+-----------+---------+-------------+-----------+----------+--------+\n",
      "|MORTGAGE_DEFAULT|INCOME|APPLIED_ONLINE|RESIDENCE|YRS_CURRENT_ADD|YRS_CURRENT_EMP|NO_OF_CARDS|CARD_DEBT|CURRENT_LOANS|LOAN_AMOUNT|SALE_PRICE|LOCATION|\n",
      "+----------------+------+--------------+---------+---------------+---------------+-----------+---------+-------------+-----------+----------+--------+\n",
      "|               N| 43593|             Y|        O|             13|              0|          1|     2315|            0|      12820|    180000|     130|\n",
      "|               Y| 45706|             Y|        O|             17|             16|          2|      373|            1|       7275|    145000|     100|\n",
      "|               N| 44202|             Y|        O|              8|              0|          2|      748|            0|      10455|    170000|     100|\n",
      "|               N| 43800|             Y|        O|              0|              4|          2|      725|            0|       7340|    259000|     100|\n",
      "|               N| 56087|             N|        P|             27|             18|          1|     4818|            1|       8910|     95000|     101|\n",
      "|               Y| 48336|             N|        O|             16|              2|          2|     1227|            0|       3705|    575000|     120|\n",
      "|               N| 55642|             Y|        P|              4|             22|          2|      240|            0|       5925|    349900|     130|\n",
      "|               N| 43650|             Y|        P|              8|             12|          1|      267|            0|       7800|    355000|     100|\n",
      "|               N| 59193|             Y|        O|             26|              0|          2|     2295|            1|       7350|    525000|     100|\n",
      "|               Y| 44483|             N|        O|             16|             15|          2|      116|            0|       7535|    245000|     130|\n",
      "|               N| 50295|             N|        O|              3|             12|          1|      298|            0|       6140|    950000|     110|\n",
      "|               Y| 52540|             Y|        S|              0|             15|          2|      397|            0|       8250|    215000|     120|\n",
      "|               N| 55897|             N|        P|             13|              2|          2|      315|            0|       9690|    240000|     120|\n",
      "|               Y| 44895|             Y|        O|              8|              0|          2|      888|            1|       8915|    310000|     100|\n",
      "|               Y| 45209|             Y|        O|              4|              9|          2|      658|            0|      11420|    185000|     101|\n",
      "|               N| 43202|             Y|        O|             17|              7|          1|     1412|            1|       8925|    650000|     101|\n",
      "|               Y| 53552|             Y|        O|             19|             22|          2|     1255|            1|       4430|    159900|     100|\n",
      "|               Y| 52118|             Y|        P|             17|             22|          2|     2771|            1|       8390|    165000|     100|\n",
      "|               Y| 54792|             Y|        O|             22|             17|          1|     1223|            0|       6915|    254500|     130|\n",
      "|               Y| 57718|             Y|        O|             25|             16|          2|     1555|            1|       6285|    155000|     130|\n",
      "+----------------+------+--------------+---------+---------------+---------------+-----------+---------+-------------+-----------+----------+--------+\n",
      "only showing top 20 rows\n",
      "\n"
     ]
    }
   ],
   "source": [
    "from pyspark.sql import SQLContext\n",
    "SQLContext = SQLContext(sc)\n",
    "\n",
    "sdf = SQLContext.createDataFrame(df)\n",
    "sdf.show()"
   ]
  },
  {
   "cell_type": "markdown",
   "metadata": {},
   "source": [
    "### Step 2: Build the Spark pipeline and the Random Forest model"
   ]
  },
  {
   "cell_type": "code",
   "execution_count": 13,
   "metadata": {},
   "outputs": [],
   "source": [
    "from pyspark.ml.feature import OneHotEncoder, StringIndexer, VectorIndexer, IndexToString\n",
    "from pyspark.ml import Pipeline\n",
    "from pyspark.ml.feature import VectorAssembler\n",
    "from pyspark.ml.classification import RandomForestClassifier\n",
    "\n",
    "# Prepare string variables so that they can be used by the decision tree algorithm\n",
    "# StringIndexer encodes a string column of labels to a column of label indices\n",
    "SI1 = StringIndexer(inputCol='APPLIED_ONLINE',outputCol='AppliedOnlineEncoded')\n",
    "SI2 = StringIndexer(inputCol='RESIDENCE',outputCol='ResidenceEncoded')\n",
    "labelIndexer = StringIndexer(inputCol='MORTGAGE_DEFAULT', outputCol='label').fit(sdf)\n",
    "\n",
    "# Pipelines API requires that input variables are passed in  a vector\n",
    "assembler = VectorAssembler(inputCols=[\"AppliedOnlineEncoded\", \"ResidenceEncoded\", \"INCOME\", \"YRS_CURRENT_ADD\", \\\n",
    "                                       \"YRS_CURRENT_EMP\", \"NO_OF_CARDS\", \"CARD_DEBT\", \"CURRENT_LOANS\", \"LOAN_AMOUNT\", \\\n",
    "                                       \"SALE_PRICE\", \"LOCATION\"], outputCol=\"features\")"
   ]
  },
  {
   "cell_type": "code",
   "execution_count": 14,
   "metadata": {},
   "outputs": [],
   "source": [
    "# instantiate the algorithm, take the default settings\n",
    "rf=RandomForestClassifier(labelCol=\"label\", featuresCol=\"features\")\n",
    "\n",
    "# Convert indexed labels back to original labels.\n",
    "labelConverter = IndexToString(inputCol=\"prediction\", outputCol=\"predictedLabel\", labels=labelIndexer.labels)\n",
    "\n",
    "pipeline = Pipeline(stages=[SI1,SI2,labelIndexer, assembler, rf, labelConverter])"
   ]
  },
  {
   "cell_type": "code",
   "execution_count": 15,
   "metadata": {},
   "outputs": [
    {
     "data": {
      "text/plain": [
       "DataFrame[MORTGAGE_DEFAULT: string, INCOME: bigint, APPLIED_ONLINE: string, RESIDENCE: string, YRS_CURRENT_ADD: bigint, YRS_CURRENT_EMP: bigint, NO_OF_CARDS: bigint, CARD_DEBT: bigint, CURRENT_LOANS: bigint, LOAN_AMOUNT: bigint, SALE_PRICE: bigint, LOCATION: bigint]"
      ]
     },
     "execution_count": 15,
     "metadata": {},
     "output_type": "execute_result"
    }
   ],
   "source": [
    "# Split data into train and test datasets\n",
    "train, test = sdf.randomSplit([0.8,0.2], seed=11)\n",
    "train.cache()\n",
    "test.cache()"
   ]
  },
  {
   "cell_type": "code",
   "execution_count": 16,
   "metadata": {},
   "outputs": [],
   "source": [
    "# Build models\n",
    "model = pipeline.fit(train)"
   ]
  },
  {
   "cell_type": "code",
   "execution_count": 17,
   "metadata": {},
   "outputs": [
    {
     "data": {
      "text/plain": [
       "DataFrame[MORTGAGE_DEFAULT: string, INCOME: bigint, APPLIED_ONLINE: string, RESIDENCE: string, YRS_CURRENT_ADD: bigint, YRS_CURRENT_EMP: bigint, NO_OF_CARDS: bigint, CARD_DEBT: bigint, CURRENT_LOANS: bigint, LOAN_AMOUNT: bigint, SALE_PRICE: bigint, LOCATION: bigint, AppliedOnlineEncoded: double, ResidenceEncoded: double, label: double, features: vector, rawPrediction: vector, probability: vector, prediction: double, predictedLabel: string]"
      ]
     },
     "execution_count": 17,
     "metadata": {},
     "output_type": "execute_result"
    }
   ],
   "source": [
    "model.transform(test)"
   ]
  },
  {
   "cell_type": "markdown",
   "metadata": {},
   "source": [
    "### Step 3: Score the test data set"
   ]
  },
  {
   "cell_type": "code",
   "execution_count": 18,
   "metadata": {},
   "outputs": [
    {
     "data": {
      "text/html": [
       "<div>\n",
       "<style scoped>\n",
       "    .dataframe tbody tr th:only-of-type {\n",
       "        vertical-align: middle;\n",
       "    }\n",
       "\n",
       "    .dataframe tbody tr th {\n",
       "        vertical-align: top;\n",
       "    }\n",
       "\n",
       "    .dataframe thead th {\n",
       "        text-align: right;\n",
       "    }\n",
       "</style>\n",
       "<table border=\"1\" class=\"dataframe\">\n",
       "  <thead>\n",
       "    <tr style=\"text-align: right;\">\n",
       "      <th></th>\n",
       "      <th>MORTGAGE_DEFAULT</th>\n",
       "      <th>label</th>\n",
       "      <th>predictedLabel</th>\n",
       "      <th>prediction</th>\n",
       "      <th>probability</th>\n",
       "    </tr>\n",
       "  </thead>\n",
       "  <tbody>\n",
       "    <tr>\n",
       "      <th>0</th>\n",
       "      <td>N</td>\n",
       "      <td>0.0</td>\n",
       "      <td>N</td>\n",
       "      <td>0.0</td>\n",
       "      <td>[0.7108159581284146, 0.28918404187158553]</td>\n",
       "    </tr>\n",
       "    <tr>\n",
       "      <th>1</th>\n",
       "      <td>Y</td>\n",
       "      <td>1.0</td>\n",
       "      <td>N</td>\n",
       "      <td>0.0</td>\n",
       "      <td>[0.5483901181770174, 0.45160988182298256]</td>\n",
       "    </tr>\n",
       "    <tr>\n",
       "      <th>2</th>\n",
       "      <td>Y</td>\n",
       "      <td>1.0</td>\n",
       "      <td>Y</td>\n",
       "      <td>1.0</td>\n",
       "      <td>[0.4829334336771619, 0.5170665663228381]</td>\n",
       "    </tr>\n",
       "    <tr>\n",
       "      <th>3</th>\n",
       "      <td>Y</td>\n",
       "      <td>1.0</td>\n",
       "      <td>N</td>\n",
       "      <td>0.0</td>\n",
       "      <td>[0.6096312853562669, 0.3903687146437331]</td>\n",
       "    </tr>\n",
       "    <tr>\n",
       "      <th>4</th>\n",
       "      <td>N</td>\n",
       "      <td>0.0</td>\n",
       "      <td>N</td>\n",
       "      <td>0.0</td>\n",
       "      <td>[0.6589100030111489, 0.3410899969888511]</td>\n",
       "    </tr>\n",
       "    <tr>\n",
       "      <th>5</th>\n",
       "      <td>Y</td>\n",
       "      <td>1.0</td>\n",
       "      <td>Y</td>\n",
       "      <td>1.0</td>\n",
       "      <td>[0.39675351423825006, 0.6032464857617499]</td>\n",
       "    </tr>\n",
       "  </tbody>\n",
       "</table>\n",
       "</div>"
      ],
      "text/plain": [
       "  MORTGAGE_DEFAULT  label predictedLabel  prediction  \\\n",
       "0                N    0.0              N         0.0   \n",
       "1                Y    1.0              N         0.0   \n",
       "2                Y    1.0              Y         1.0   \n",
       "3                Y    1.0              N         0.0   \n",
       "4                N    0.0              N         0.0   \n",
       "5                Y    1.0              Y         1.0   \n",
       "\n",
       "                                 probability  \n",
       "0  [0.7108159581284146, 0.28918404187158553]  \n",
       "1  [0.5483901181770174, 0.45160988182298256]  \n",
       "2   [0.4829334336771619, 0.5170665663228381]  \n",
       "3   [0.6096312853562669, 0.3903687146437331]  \n",
       "4   [0.6589100030111489, 0.3410899969888511]  \n",
       "5  [0.39675351423825006, 0.6032464857617499]  "
      ]
     },
     "execution_count": 18,
     "metadata": {},
     "output_type": "execute_result"
    }
   ],
   "source": [
    "results = model.transform(test)\n",
    "results=results.select(results[\"MORTGAGE_DEFAULT\"],results[\"label\"],results[\"predictedLabel\"],results[\"prediction\"],results[\"probability\"])\n",
    "results.toPandas().head(6)"
   ]
  },
  {
   "cell_type": "markdown",
   "metadata": {},
   "source": [
    "### Step 4: Model Evaluation"
   ]
  },
  {
   "cell_type": "code",
   "execution_count": 19,
   "metadata": {},
   "outputs": [
    {
     "name": "stdout",
     "output_type": "stream",
     "text": [
      "Accuracy = 0.68.\n"
     ]
    }
   ],
   "source": [
    "accuracy=results.filter(results.label == results.prediction).count() / float(results.count())\n",
    "print('Accuracy = {:.2f}.'.format(accuracy))"
   ]
  },
  {
   "cell_type": "code",
   "execution_count": 20,
   "metadata": {},
   "outputs": [
    {
     "name": "stdout",
     "output_type": "stream",
     "text": [
      "Area under ROC curve = 0.65.\n"
     ]
    }
   ],
   "source": [
    "from pyspark.ml.evaluation import BinaryClassificationEvaluator\n",
    "\n",
    "# Evaluate model\n",
    "evaluator = BinaryClassificationEvaluator(rawPredictionCol=\"prediction\", labelCol=\"label\", metricName=\"areaUnderROC\")\n",
    "print('Area under ROC curve = {:.2f}.'.format(evaluator.evaluate(results)))"
   ]
  },
  {
   "cell_type": "markdown",
   "metadata": {},
   "source": [
    "### Step 5: Save Model in ML repository"
   ]
  },
  {
   "cell_type": "code",
   "execution_count": 21,
   "metadata": {},
   "outputs": [
    {
     "name": "stderr",
     "output_type": "stream",
     "text": [
      "Using TensorFlow backend.\n"
     ]
    },
    {
     "data": {
      "text/plain": [
       "{'path': '/user-home/999/DSX_Projects/sanjitc/models/Mortgage_Prediction_Model/1',\n",
       " 'scoring_endpoint': 'https://dsxl-api/v3/project/score/Python36/spark-2.3/sanjitc/Mortgage_Prediction_Model/1'}"
      ]
     },
     "execution_count": 21,
     "metadata": {},
     "output_type": "execute_result"
    }
   ],
   "source": [
    "from dsx_ml.ml import save\n",
    "\n",
    "model_name = \"Mortgage_Prediction_Model\"\n",
    "save(name = model_name,\n",
    "     model = model,\n",
    "     algorithm_type = 'Classification',\n",
    "     test_data = test)"
   ]
  },
  {
   "cell_type": "code",
   "execution_count": 22,
   "metadata": {},
   "outputs": [],
   "source": [
    "# Write the test data to a .csv so that we can later use it for Evaluation\n",
    "writeCSV=test.toPandas()\n",
    "writeCSV.to_csv('../datasets/MortgagePredictionModelEval.csv', sep=',', index=False)"
   ]
  },
  {
   "cell_type": "markdown",
   "metadata": {},
   "source": [
    "### Step 6: Test Saved Model with Test UI"
   ]
  },
  {
   "attachments": {
    "image.png": {
     "image/png": "[encoded data removed]"
    }
   },
   "cell_type": "markdown",
   "metadata": {},
   "source": [
    "1. Save the notebook and switch to the Models tab of the project (hint: right click the project name link, mortgage_data, at the top, and open with another tab in your browser).\n",
    "2. Under Models, find and click into your saved model.\n",
    "3. Click the Test link to *Real-time score* the model. You can use the data for testing that already loaded: \n",
    "![image.png](attachment:image.png)"
   ]
  },
  {
   "cell_type": "markdown",
   "metadata": {},
   "source": [
    "### Summary"
   ]
  },
  {
   "cell_type": "markdown",
   "metadata": {},
   "source": [
    "You have finished working on this hands-on lab. In this notebook you created a model using SparkML API, \n",
    "deployed it in Machine Learning service for online (real time) scoring and tested it using a test client. "
   ]
  },
  {
   "cell_type": "markdown",
   "metadata": {},
   "source": [
    "Created by Sanjit Chakraborty\n",
    "sanjitc@us.ibm.com\n",
    "Dec 2, 2018"
   ]
  },
  {
   "cell_type": "code",
   "execution_count": null,
   "metadata": {},
   "outputs": [],
   "source": []
  }
 ],
 "metadata": {
  "kernelspec": {
   "display_name": "Python3.6",
   "language": "python",
   "name": "python3"
  },
  "language_info": {
   "codemirror_mode": {
    "name": "ipython",
    "version": 3
   },
   "file_extension": ".py",
   "mimetype": "text/x-python",
   "name": "python",
   "nbconvert_exporter": "python",
   "pygments_lexer": "ipython3",
   "version": "3.6.6"
  }
 },
 "nbformat": 4,
 "nbformat_minor": 2
}
